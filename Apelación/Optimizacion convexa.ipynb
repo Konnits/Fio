{
 "cells": [
  {
   "cell_type": "code",
   "execution_count": 1,
   "id": "turkish-flooring",
   "metadata": {},
   "outputs": [],
   "source": [
    "import cvxpy as cv\n",
    "import numpy as np"
   ]
  },
  {
   "cell_type": "code",
   "execution_count": 2,
   "id": "proprietary-middle",
   "metadata": {},
   "outputs": [],
   "source": [
    "def zero(n, i):\n",
    "    zeros = np.zeros((1,n)).tolist()[0]\n",
    "    zeros[i] = 1\n",
    "    return zeros\n",
    "\n",
    "def integer_solver(n, params, A, b, maximize = True, binary = False, integer = True):\n",
    "    if not maximize:\n",
    "        params = -params\n",
    "    \n",
    "    if binary:\n",
    "        A = A.tolist()\n",
    "        b = b.tolist()\n",
    "        for i in range(n):\n",
    "            A.append(zero(n, i))\n",
    "            b.append([1])\n",
    "        A = np.array(A)\n",
    "        b = np.array(b)\n",
    "    if integer:\n",
    "        X = cv.Variable((n, 1), integer = True)\n",
    "    else:\n",
    "        X = cv.Variable((n, 1))\n",
    "    obj = cv.Maximize(params @ X)\n",
    "    rest = A@X <= b\n",
    "    rest_0 = np.zeros((n,1))\n",
    "    problem = cv.Problem(obj, [rest, X >= rest_0])\n",
    "    if integer:\n",
    "        problem.solve(solver = \"GLPK_MI\")\n",
    "    else:\n",
    "        problem.solve()\n",
    "    try:\n",
    "        return(problem.value, X.value.round(8))\n",
    "    except:\n",
    "        return(None, None)"
   ]
  },
  {
   "cell_type": "markdown",
   "id": "simplified-process",
   "metadata": {},
   "source": [
    "# Nodo 0"
   ]
  },
  {
   "cell_type": "code",
   "execution_count": 3,
   "id": "cutting-extreme",
   "metadata": {},
   "outputs": [
    {
     "data": {
      "text/plain": [
       "(10.599999999454283,\n",
       " array([[0.8],\n",
       "        [1. ],\n",
       "        [1. ],\n",
       "        [1. ]]))"
      ]
     },
     "execution_count": 3,
     "metadata": {},
     "output_type": "execute_result"
    }
   ],
   "source": [
    "integer_solver(4, np.array([[2, 4, 2, 3]]),\n",
    "               np.array([[5, 4, 3, 7],\n",
    "                         [1, 9, 5, 4],\n",
    "                         [2, 10, 1, 2],\n",
    "                         [1, 0, 0, 0],\n",
    "                         [0, 1, 0, 0],\n",
    "                         [0, 0, 1, 0],\n",
    "                         [0, 0, 0, 1]]),\n",
    "               np.array([[18], [21], [15], [1], [1], [1], [1]]),\n",
    "               integer = False)"
   ]
  },
  {
   "cell_type": "markdown",
   "id": "analyzed-hamilton",
   "metadata": {},
   "source": [
    "Dado que no hay elección entre variables, el árbol se bifurca como hijo izquierdo 1 se asume que la variable X1 toma el valor 0:"
   ]
  },
  {
   "cell_type": "markdown",
   "id": "every-agent",
   "metadata": {},
   "source": [
    "# Nodo 1"
   ]
  },
  {
   "cell_type": "code",
   "execution_count": 4,
   "id": "nasty-sapphire",
   "metadata": {},
   "outputs": [
    {
     "data": {
      "text/plain": [
       "(9.00000000121668,\n",
       " array([[0.],\n",
       "        [1.],\n",
       "        [1.],\n",
       "        [1.]]))"
      ]
     },
     "execution_count": 4,
     "metadata": {},
     "output_type": "execute_result"
    }
   ],
   "source": [
    "integer_solver(4, np.array([[2, 4, 2, 3]]),\n",
    "               np.array([[5, 4, 3, 7],\n",
    "                         [1, 9, 5, 4],\n",
    "                         [2, 10, 1, 2],\n",
    "                         [1, 0, 0, 0],\n",
    "                         [0, 1, 0, 0],\n",
    "                         [0, 0, 1, 0],\n",
    "                         [0, 0, 0, 1],\n",
    "                         [1, 0, 0, 0]]),\n",
    "               np.array([[18], [21], [15], [1], [1], [1], [1], [0]]),\n",
    "               integer = False)"
   ]
  },
  {
   "cell_type": "markdown",
   "id": "instant-gabriel",
   "metadata": {},
   "source": [
    "Aquí termina la rama izquierda del nodo 0.\n",
    "\n",
    "Continuamos con la rama derecha del nodo 0: asumiendo X1 = 1:"
   ]
  },
  {
   "cell_type": "markdown",
   "id": "macro-binding",
   "metadata": {},
   "source": [
    "# Nodo 2"
   ]
  },
  {
   "cell_type": "code",
   "execution_count": 5,
   "id": "stunning-patrol",
   "metadata": {},
   "outputs": [
    {
     "data": {
      "text/plain": [
       "(10.571428570271532,\n",
       " array([[1.        ],\n",
       "        [1.        ],\n",
       "        [1.        ],\n",
       "        [0.85714286]]))"
      ]
     },
     "execution_count": 5,
     "metadata": {},
     "output_type": "execute_result"
    }
   ],
   "source": [
    "integer_solver(4, np.array([[2, 4, 2, 3]]),\n",
    "               np.array([[5, 4, 3, 7],\n",
    "                         [1, 9, 5, 4],\n",
    "                         [2, 10, 1, 2],\n",
    "                         [1, 0, 0, 0],\n",
    "                         [0, 1, 0, 0],\n",
    "                         [0, 0, 1, 0],\n",
    "                         [0, 0, 0, 1],\n",
    "                         [-1, 0, 0, 0]]),\n",
    "               np.array([[18], [21], [15], [1], [1], [1], [1], [-1]]),\n",
    "               integer = False)"
   ]
  },
  {
   "cell_type": "markdown",
   "id": "simple-palestine",
   "metadata": {},
   "source": [
    "Luego, estando en el nodo 2, elegimos el nodo izquierdo, asumiendo X4 como 0:\n",
    "\n",
    "# Nodo 5"
   ]
  },
  {
   "cell_type": "code",
   "execution_count": 6,
   "id": "nearby-waste",
   "metadata": {},
   "outputs": [
    {
     "data": {
      "text/plain": [
       "(8.000000002784002,\n",
       " array([[1.],\n",
       "        [1.],\n",
       "        [1.],\n",
       "        [0.]]))"
      ]
     },
     "execution_count": 6,
     "metadata": {},
     "output_type": "execute_result"
    }
   ],
   "source": [
    "integer_solver(4, np.array([[2, 4, 2, 3]]),\n",
    "               np.array([[5, 4, 3, 7],\n",
    "                         [1, 9, 5, 4],\n",
    "                         [2, 10, 1, 2],\n",
    "                         [1, 0, 0, 0],\n",
    "                         [0, 1, 0, 0],\n",
    "                         [0, 0, 1, 0],\n",
    "                         [0, 0, 0, 1],\n",
    "                         [-1, 0, 0, 0],\n",
    "                         [0, 0, 0, 1]]),\n",
    "               np.array([[18], [21], [15], [1], [1], [1], [1], [-1], [0]]),\n",
    "               integer = False)"
   ]
  },
  {
   "cell_type": "markdown",
   "id": "qualified-corruption",
   "metadata": {},
   "source": [
    "Aquí termina la rama izquierda del 2.\n",
    "\n",
    "Continuamos con el nodo derecho del 2, asumiendo X4 como 1:\n",
    "\n",
    "# Nodo 6"
   ]
  },
  {
   "cell_type": "code",
   "execution_count": 7,
   "id": "mighty-rainbow",
   "metadata": {},
   "outputs": [
    {
     "data": {
      "text/plain": [
       "(10.333333333436979,\n",
       " array([[1.        ],\n",
       "        [1.        ],\n",
       "        [0.66666667],\n",
       "        [1.        ]]))"
      ]
     },
     "execution_count": 7,
     "metadata": {},
     "output_type": "execute_result"
    }
   ],
   "source": [
    "integer_solver(4, np.array([[2, 4, 2, 3]]),\n",
    "               np.array([[5, 4, 3, 7],\n",
    "                         [1, 9, 5, 4],\n",
    "                         [2, 10, 1, 2],\n",
    "                         [1, 0, 0, 0],\n",
    "                         [0, 1, 0, 0],\n",
    "                         [0, 0, 1, 0],\n",
    "                         [0, 0, 0, 1],\n",
    "                         [-1, 0, 0, 0],\n",
    "                         [0, 0, 0, -1]]),\n",
    "               np.array([[18], [21], [15], [1], [1], [1], [1], [-1], [-1]]),\n",
    "               integer = False)"
   ]
  },
  {
   "cell_type": "markdown",
   "id": "ready-ethernet",
   "metadata": {},
   "source": [
    "Desde este nodo tenemos un hijo izquierdo asumiendo que X3 vale 0:\n",
    "\n",
    "# Nodo 13"
   ]
  },
  {
   "cell_type": "code",
   "execution_count": 8,
   "id": "adolescent-correspondence",
   "metadata": {},
   "outputs": [
    {
     "data": {
      "text/plain": [
       "(9.000000003082146,\n",
       " array([[1.],\n",
       "        [1.],\n",
       "        [0.],\n",
       "        [1.]]))"
      ]
     },
     "execution_count": 8,
     "metadata": {},
     "output_type": "execute_result"
    }
   ],
   "source": [
    "integer_solver(4, np.array([[2, 4, 2, 3]]),\n",
    "               np.array([[5, 4, 3, 7],\n",
    "                         [1, 9, 5, 4],\n",
    "                         [2, 10, 1, 2],\n",
    "                         [1, 0, 0, 0],\n",
    "                         [0, 1, 0, 0],\n",
    "                         [0, 0, 1, 0],\n",
    "                         [0, 0, 0, 1],\n",
    "                         [-1, 0, 0, 0],\n",
    "                         [0, 0, 0, -1],\n",
    "                         [0, 0, 1, 0]]),\n",
    "               np.array([[18], [21], [15], [1], [1], [1], [1], [-1], [-1], [0]]),\n",
    "               integer = False)"
   ]
  },
  {
   "cell_type": "markdown",
   "id": "greenhouse-publisher",
   "metadata": {},
   "source": [
    "Hasta aquí termina la rama izquierda del nodo 6\n",
    "\n",
    "Ahora vemos si X3 toma el valor de 1:\n",
    "\n",
    "# Nodo 14"
   ]
  },
  {
   "cell_type": "code",
   "execution_count": 9,
   "id": "unavailable-photograph",
   "metadata": {},
   "outputs": [
    {
     "data": {
      "text/plain": [
       "(10.000000002155154,\n",
       " array([[1.  ],\n",
       "        [0.75],\n",
       "        [1.  ],\n",
       "        [1.  ]]))"
      ]
     },
     "execution_count": 9,
     "metadata": {},
     "output_type": "execute_result"
    }
   ],
   "source": [
    "integer_solver(4, np.array([[2, 4, 2, 3]]),\n",
    "               np.array([[5, 4, 3, 7],\n",
    "                         [1, 9, 5, 4],\n",
    "                         [2, 10, 1, 2],\n",
    "                         [1, 0, 0, 0],\n",
    "                         [0, 1, 0, 0],\n",
    "                         [0, 0, 1, 0],\n",
    "                         [0, 0, 0, 1],\n",
    "                         [-1, 0, 0, 0],\n",
    "                         [0, 0, 0, -1],\n",
    "                         [0, 0, -1, 0]]),\n",
    "               np.array([[18], [21], [15], [1], [1], [1], [1], [-1], [-1], [-1]]),\n",
    "               integer = False)"
   ]
  },
  {
   "cell_type": "markdown",
   "id": "alive-lyric",
   "metadata": {},
   "source": [
    "Aquí obtenemos su rama izquierda cuando X2 vale 0:\n",
    "\n",
    "# Nodo 29"
   ]
  },
  {
   "cell_type": "code",
   "execution_count": 10,
   "id": "offshore-coordinate",
   "metadata": {},
   "outputs": [
    {
     "data": {
      "text/plain": [
       "(7.0000000031424126,\n",
       " array([[1.],\n",
       "        [0.],\n",
       "        [1.],\n",
       "        [1.]]))"
      ]
     },
     "execution_count": 10,
     "metadata": {},
     "output_type": "execute_result"
    }
   ],
   "source": [
    "integer_solver(4, np.array([[2, 4, 2, 3]]),\n",
    "               np.array([[5, 4, 3, 7],\n",
    "                         [1, 9, 5, 4],\n",
    "                         [2, 10, 1, 2],\n",
    "                         [1, 0, 0, 0],\n",
    "                         [0, 1, 0, 0],\n",
    "                         [0, 0, 1, 0],\n",
    "                         [0, 0, 0, 1],\n",
    "                         [-1, 0, 0, 0],\n",
    "                         [0, 0, 0, -1],\n",
    "                         [0, 0, -1, 0], \n",
    "                         [0, 1, 0, 0]]),\n",
    "               np.array([[18], [21], [15], [1], [1], [1], [1], [-1], [-1], [-1], [0]]),\n",
    "               integer = False)"
   ]
  },
  {
   "cell_type": "markdown",
   "id": "computational-piano",
   "metadata": {},
   "source": [
    "Aquí termina la rama izquierda del nodo 14. Probamos la rama derecha tomando X2 como 1:\n",
    "\n",
    "# Nodo 30"
   ]
  },
  {
   "cell_type": "code",
   "execution_count": 11,
   "id": "numerical-productivity",
   "metadata": {},
   "outputs": [
    {
     "data": {
      "text/plain": [
       "(None, None)"
      ]
     },
     "execution_count": 11,
     "metadata": {},
     "output_type": "execute_result"
    }
   ],
   "source": [
    "integer_solver(4, np.array([[2, 4, 2, 3]]),\n",
    "               np.array([[5, 4, 3, 7],\n",
    "                         [1, 9, 5, 4],\n",
    "                         [2, 10, 1, 2],\n",
    "                         [1, 0, 0, 0],\n",
    "                         [0, 1, 0, 0],\n",
    "                         [0, 0, 1, 0],\n",
    "                         [0, 0, 0, 1],\n",
    "                         [-1, 0, 0, 0],\n",
    "                         [0, 0, 0, -1],\n",
    "                         [0, 0, -1, 0], \n",
    "                         [0, -1, 0, 0]]),\n",
    "               np.array([[18], [21], [15], [1], [1], [1], [1], [-1], [-1], [-1], [-1]]),\n",
    "               integer = False)"
   ]
  },
  {
   "cell_type": "markdown",
   "id": "thermal-deputy",
   "metadata": {},
   "source": [
    "Aquí no habría solución."
   ]
  }
 ],
 "metadata": {
  "kernelspec": {
   "display_name": "Python 3",
   "language": "python",
   "name": "python3"
  },
  "language_info": {
   "codemirror_mode": {
    "name": "ipython",
    "version": 3
   },
   "file_extension": ".py",
   "mimetype": "text/x-python",
   "name": "python",
   "nbconvert_exporter": "python",
   "pygments_lexer": "ipython3",
   "version": "3.7.8"
  }
 },
 "nbformat": 4,
 "nbformat_minor": 5
}
